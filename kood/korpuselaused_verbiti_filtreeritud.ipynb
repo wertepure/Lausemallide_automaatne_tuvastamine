{
 "cells": [
  {
   "cell_type": "markdown",
   "id": "6c815e70",
   "metadata": {},
   "source": [
    "## Leiab liigutamisverbidega laused korpusest, rakendab neile samu filtreid mis andmestiku koostamisel ja kirjutab laused eraldi faili"
   ]
  },
  {
   "cell_type": "code",
   "execution_count": 1,
   "id": "09254aa2",
   "metadata": {},
   "outputs": [],
   "source": [
    "import pyconll #conllu failide lugemise teek"
   ]
  },
  {
   "cell_type": "code",
   "execution_count": 4,
   "id": "06444459",
   "metadata": {},
   "outputs": [],
   "source": [
    "#funktsioon, mis tagastab kõik laused, kus otsitav verb esineb vormides, mis pole välja filtreeritud\n",
    "def verb_korpusest(verb, korpus):\n",
    "    margendus = []\n",
    "    for lause in korpus:\n",
    "        for sona in lause:\n",
    "            if sona.lemma == verb and sona.upos == 'V' and lause not in margendus:\n",
    "                #filtreerime välja verbid, mis on järgmistes vormides:\n",
    "                #umbisikuline\n",
    "                if (('Voice' in sona.feats.keys() and 'imps' in sona.feats['Voice']) == False \n",
    "                #käskiv kõneviis\n",
    "                and ('Mood' in sona.feats.keys() and 'imper' in sona.feats['Mood']) == False\n",
    "                #supiin\n",
    "                and ('VerbForm' in sona.feats.keys() and 'sup' in sona.feats['VerbForm']) == False\n",
    "                #da-infinitiiv\n",
    "                and ('VerbForm' in sona.feats.keys() and 'inf' in sona.feats['VerbForm']) == False\n",
    "                #v-kesksõna\n",
    "                and ('VerbForm' in sona.feats.keys() and 'partic' in sona.feats['VerbForm'] \n",
    "                and 'Tense' in sona.feats.keys() and 'pres' in sona.feats['Tense']) == False\n",
    "                #gerundiiv e des-vorm    \n",
    "                and ('VerbForm' in sona.feats.keys() and 'ger' in sona.feats['VerbForm']) == False\n",
    "                and (sona.deprel != 'aux')):\n",
    "                    #kui verb pole ühesgi välja filtreeritavas vormis, lisame selle lause listi\n",
    "                    margendus.append(lause) \n",
    "    return margendus"
   ]
  },
  {
   "cell_type": "code",
   "execution_count": 5,
   "id": "060f9658",
   "metadata": {},
   "outputs": [],
   "source": [
    "#filtreerime välja ühendverbid ja verbid, millel on alluv aux\n",
    "def filter_alluvad(verb, laused):\n",
    "    head_laused = []\n",
    "    for lause in laused:\n",
    "        for sona in lause:\n",
    "            #kui sõna ülemus on meie verb ja sõna pole abiverb ega ühendverbi osis\n",
    "            if ('H_lemma' in sona.deps.keys() and verb in sona.deps['H_lemma'] \n",
    "                and sona.deprel != 'aux' and sona.deprel != 'compound:prt'): \n",
    "                if lause not in head_laused:\n",
    "                    head_laused.append(lause)\n",
    "    return head_laused"
   ]
  },
  {
   "cell_type": "code",
   "execution_count": 14,
   "id": "53c08e5c",
   "metadata": {},
   "outputs": [],
   "source": [
    "#kirjutame filtrid läbinud laused vastavalt verbile eraldi failidesse\n",
    "verbid = ['riputama', 'tirima', 'loopima', 'paiskama', 'raputama', 'torkama', 'sättima', 'toppima', 'laduma', 'poetama', \n",
    "          'pistma', 'asetama', 'langetama', 'sõidutama', 'paigutama', 'vedama', 'heitma', 'lükkama', 'tõukama', 'seadma',\n",
    "          'keerama', 'viskama', 'tõmbama', 'tõstma', 'liigutama', 'viima', 'tooma', 'panema']\n",
    "\n",
    "koik_laused = [] #siia salvestame kõik filtrid läbinud liigutamisverbide laused\n",
    "\n",
    "for verb in verbid:\n",
    "    sisu = ''\n",
    "    #loeme kogu korpuse sisse\n",
    "    sisu = pyconll.iter_from_file('data/korpusefailid/tasak.conll')\n",
    "    #otsime korpusest lauseid oma verbiga ja filtreerime vormi järgi halvad välja\n",
    "    margendus = verb_korpusest(verb, sisu)\n",
    "    #filtreerime välja ühendverbiga ja abiverbidega laused\n",
    "    filtreeritud = filter_alluvad(verb, margendus)\n",
    "    koik_laused += filtreeritud\n",
    "    failitee = 'data/paringutulemused/' + verb + '.conllu'\n",
    "    #kirjutame filtrid läbinud laused faili\n",
    "    with open(failitee, 'w', encoding='utf-8') as f:\n",
    "        for line in filtreeritud:\n",
    "            f.write(f\"{line.conll()}\\n\\n\")"
   ]
  },
  {
   "cell_type": "code",
   "execution_count": 17,
   "id": "247dbc74",
   "metadata": {},
   "outputs": [],
   "source": [
    "#kirjutame kõik liigutamisverbide laused eraldi faili\n",
    "with open('data/paringutulemused/koik_verbid.conll', 'w', encoding='utf-8') as f:\n",
    "    for line in koik_laused:\n",
    "        f.write(f\"{line.conll()}\\n\\n\")"
   ]
  }
 ],
 "metadata": {
  "kernelspec": {
   "display_name": "Python 3 (ipykernel)",
   "language": "python",
   "name": "python3"
  },
  "language_info": {
   "codemirror_mode": {
    "name": "ipython",
    "version": 3
   },
   "file_extension": ".py",
   "mimetype": "text/x-python",
   "name": "python",
   "nbconvert_exporter": "python",
   "pygments_lexer": "ipython3",
   "version": "3.9.18"
  }
 },
 "nbformat": 4,
 "nbformat_minor": 5
}
